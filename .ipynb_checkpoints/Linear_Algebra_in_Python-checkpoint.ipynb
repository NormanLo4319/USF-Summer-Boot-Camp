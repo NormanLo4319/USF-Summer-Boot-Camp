{
 "cells": [
  {
   "cell_type": "markdown",
   "id": "impressed-digit",
   "metadata": {},
   "source": [
    "## Linear Algebra in Python\n",
    "\n",
    "This notebook goes over the basic linear algebra operations. We are using a module called \"*numpy*\", which is one of the most popular mathematical package in *Python*, for demonstration."
   ]
  },
  {
   "cell_type": "code",
   "execution_count": null,
   "id": "visible-brake",
   "metadata": {},
   "outputs": [],
   "source": [
    "# Import Numpy\n",
    "# numpy is a standard package in Anaconda, so you are using Jupyter Notebook, you don't need to install it.\n",
    "# Run the following command if you have not numpy to your working environment yet.\n",
    "# !pip install numpy\n",
    "import numpy as np"
   ]
  },
  {
   "cell_type": "code",
   "execution_count": null,
   "id": "frozen-distribution",
   "metadata": {},
   "outputs": [],
   "source": [
    "# Create a row vector\n",
    "a = np.array([[1, 2, 3]])"
   ]
  },
  {
   "cell_type": "code",
   "execution_count": null,
   "id": "opposed-clearing",
   "metadata": {},
   "outputs": [],
   "source": [
    "# Create a column vector\n",
    "b = np.array([[1],\n",
    "            [2],\n",
    "            [3]])\n",
    "\n",
    "# Or using transpose\n",
    "# a.T"
   ]
  },
  {
   "cell_type": "code",
   "execution_count": null,
   "id": "surrounded-clarity",
   "metadata": {},
   "outputs": [],
   "source": [
    "# Sum to vectors\n",
    "c = np.array([[4, 5, 6]])\n",
    "\n",
    "a + c"
   ]
  },
  {
   "cell_type": "code",
   "execution_count": null,
   "id": "communist-strength",
   "metadata": {},
   "outputs": [],
   "source": [
    "# Create a 3 x 3 matrix\n",
    "A = np.array([[1, 2, 0],\n",
    "             [1, -1, 2],\n",
    "             [2, 0, -2]])"
   ]
  },
  {
   "cell_type": "code",
   "execution_count": null,
   "id": "sized-rolling",
   "metadata": {},
   "outputs": [],
   "source": [
    "# Matrix multiplication\n",
    "C = np.array([[0, -1, 2],\n",
    "             [2, 1, 3],\n",
    "             [-2, 1, 1]])\n",
    "\n",
    "A.dot(C)"
   ]
  },
  {
   "cell_type": "code",
   "execution_count": null,
   "id": "touched-tension",
   "metadata": {},
   "outputs": [],
   "source": [
    "# Create null and identity matrix\n",
    "# Null matrix\n",
    "np.zeros((3, 3))\n",
    "\n",
    "# Identity matrix\n",
    "np.eye(3)"
   ]
  },
  {
   "cell_type": "code",
   "execution_count": null,
   "id": "atlantic-crash",
   "metadata": {},
   "outputs": [],
   "source": [
    "# Minor matrix\n",
    "def minor_matrix(A):\n",
    "    m = np.shape(A)[0]    # Order of the matrix\n",
    "    M_A = np.zeros([m,m])   # Initializing the minor matrix with zeros\n",
    "    for i in range(1,m+1):\n",
    "        for j in range(1,m+1):\n",
    "            M_A[i-1,j-1] = minor_of_element(A,i,j)\n",
    "    return M_A\n",
    "\n",
    "minor_matrix(A)"
   ]
  },
  {
   "cell_type": "code",
   "execution_count": null,
   "id": "ecological-carroll",
   "metadata": {},
   "outputs": [],
   "source": [
    "# Cofactor matrix\n",
    "def cofactor_matrix(A):\n",
    "    m = np.shape(A)[0]   # Order of the matrix\n",
    "    C_A = np.zeros([m,m])   # Initializing the cofactor matrix with zeros\n",
    "    for i in range(1,m+1):\n",
    "        for j in range(1,m+1):\n",
    "            C_A[i-1,j-1] = pow(-1,i+j)*minor_of_element(A,i,j)\n",
    "    return C_A\n",
    "\n",
    "cofactor_matrix(A)"
   ]
  },
  {
   "cell_type": "code",
   "execution_count": null,
   "id": "unusual-duncan",
   "metadata": {},
   "outputs": [],
   "source": [
    "# Determinant\n",
    "np.linalg.det(A)"
   ]
  },
  {
   "cell_type": "code",
   "execution_count": null,
   "id": "subject-buyer",
   "metadata": {},
   "outputs": [],
   "source": [
    "# Inverse Matrix\n",
    "np.linalg.inv(A)"
   ]
  },
  {
   "cell_type": "code",
   "execution_count": null,
   "id": "headed-strategy",
   "metadata": {},
   "outputs": [],
   "source": []
  }
 ],
 "metadata": {
  "hide_input": false,
  "kernelspec": {
   "display_name": "Python 3",
   "language": "python",
   "name": "python3"
  },
  "language_info": {
   "codemirror_mode": {
    "name": "ipython",
    "version": 3
   },
   "file_extension": ".py",
   "mimetype": "text/x-python",
   "name": "python",
   "nbconvert_exporter": "python",
   "pygments_lexer": "ipython3",
   "version": "3.7.1"
  },
  "nbTranslate": {
   "displayLangs": [
    "*"
   ],
   "hotkey": "alt-t",
   "langInMainMenu": true,
   "sourceLang": "en",
   "targetLang": "fr",
   "useGoogleTranslate": true
  },
  "varInspector": {
   "cols": {
    "lenName": 16,
    "lenType": 16,
    "lenVar": 40
   },
   "kernels_config": {
    "python": {
     "delete_cmd_postfix": "",
     "delete_cmd_prefix": "del ",
     "library": "var_list.py",
     "varRefreshCmd": "print(var_dic_list())"
    },
    "r": {
     "delete_cmd_postfix": ") ",
     "delete_cmd_prefix": "rm(",
     "library": "var_list.r",
     "varRefreshCmd": "cat(var_dic_list()) "
    }
   },
   "types_to_exclude": [
    "module",
    "function",
    "builtin_function_or_method",
    "instance",
    "_Feature"
   ],
   "window_display": false
  }
 },
 "nbformat": 4,
 "nbformat_minor": 5
}
