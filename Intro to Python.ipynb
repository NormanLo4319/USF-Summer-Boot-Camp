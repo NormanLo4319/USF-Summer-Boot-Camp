{
 "cells": [
  {
   "cell_type": "markdown",
   "metadata": {},
   "source": [
    "## Intro to Python\n",
    "### In today's lecture, we are going to learn some basic programming in python and get to know more about it.  At the end of this section, you should \n",
    "\n",
    "<ol>\n",
    "    <li>be able to use Python to create varible</li>\n",
    "    <li>be able to use Python to do basic mathematical operation</li>\n",
    "    <li>be able to use Python to load data from CSV or Excel file</li>\n",
    "    <li>be able to print out statis scores and summary</li>\n",
    "    <li>be able to use the graphing tools for ploting the data</li>\n",
    "    <li>be able to use the basic code to run simple regression analysis</li>\n",
    "</ol>"
   ]
  },
  {
   "cell_type": "markdown",
   "metadata": {},
   "source": [
    "## Define Your Data and Formatting It\n",
    "### There are five main types of data you will be dealing with in your program.\n",
    "\n",
    "<ol>\n",
    "    <li>Integers, e.g. 1, 10, 302, -3, -100</li>\n",
    "    <li>Floating-Point Number, e.g. 1.33, 0.2, 100.99</li>\n",
    "    <li>Complex Numbers, e.g.(2+5x), 40**x, 1/5</li>\n",
    "    <li>Strings, e.g. Norman, Hello World, I'm a string</li>\n",
    "    <li>Boolean, True/False, 1 or 0</li>\n",
    "<ol>"
   ]
  },
  {
   "cell_type": "code",
   "execution_count": null,
   "metadata": {},
   "outputs": [],
   "source": [
    "# Create variable of x that takes a value of 5\n",
    "x = 5\n",
    "print(type(x))"
   ]
  },
  {
   "cell_type": "code",
   "execution_count": null,
   "metadata": {},
   "outputs": [],
   "source": [
    "# Create variable of y that takes a value of 5.55\n",
    "y = 5.55\n",
    "print(type(y))"
   ]
  },
  {
   "cell_type": "code",
   "execution_count": null,
   "metadata": {},
   "outputs": [],
   "source": [
    "# Create a complex number z, where z = x+y(j)\n",
    "z = complex(x, y)\n",
    "print(type(z))"
   ]
  },
  {
   "cell_type": "code",
   "execution_count": null,
   "metadata": {},
   "outputs": [],
   "source": [
    "# Create a string \"Hello World\"\n",
    "w = \"Hello World\"\n",
    "print(type(w))"
   ]
  },
  {
   "cell_type": "code",
   "execution_count": null,
   "metadata": {},
   "outputs": [],
   "source": [
    "# Create a boolean (sometime we called this \"binary choice\" in economics)\n",
    "s = bool(x==y)\n",
    "print(s)\n",
    "print(type(s))"
   ]
  },
  {
   "cell_type": "markdown",
   "metadata": {},
   "source": [
    "## How do we classify the format of your data in Python?\n",
    "### There are three major type of data formats\n",
    "<ul>\n",
    "    <li>List, an array of data that is \"mutable\"</li>\n",
    "    <li>Tuple, an array of data that is \"immutable\"</li>\n",
    "    <li>Dictionary, data with keys and values defined</li>\n",
    "</ul>   "
   ]
  },
  {
   "cell_type": "code",
   "execution_count": null,
   "metadata": {},
   "outputs": [],
   "source": [
    "# Create a list []\n",
    "x = [1, 2, 3, 4, 5]\n",
    "print(x)"
   ]
  },
  {
   "cell_type": "code",
   "execution_count": null,
   "metadata": {},
   "outputs": [],
   "source": [
    "# Retreiving the first value in the array\n",
    "x[0]"
   ]
  },
  {
   "cell_type": "code",
   "execution_count": null,
   "metadata": {},
   "outputs": [],
   "source": [
    "# Check the type of the first value in the array\n",
    "print(type(x[0]))"
   ]
  },
  {
   "cell_type": "code",
   "execution_count": null,
   "metadata": {},
   "outputs": [],
   "source": [
    "# Change the first value in the array to 2\n",
    "x[0] = 2"
   ]
  },
  {
   "cell_type": "code",
   "execution_count": null,
   "metadata": {},
   "outputs": [],
   "source": [
    "# Print the array x again after the change\n",
    "print(x)"
   ]
  },
  {
   "cell_type": "code",
   "execution_count": null,
   "metadata": {},
   "outputs": [],
   "source": [
    "# Check the type of the array\n",
    "print(type(x))"
   ]
  },
  {
   "cell_type": "code",
   "execution_count": null,
   "metadata": {},
   "outputs": [],
   "source": [
    "# Create a tuple ()\n",
    "y = (1, 2, 3, 4, 5)\n",
    "print(y)"
   ]
  },
  {
   "cell_type": "code",
   "execution_count": null,
   "metadata": {},
   "outputs": [],
   "source": [
    "# Retreiving the first value in the array\n",
    "y[0]"
   ]
  },
  {
   "cell_type": "code",
   "execution_count": null,
   "metadata": {},
   "outputs": [],
   "source": [
    "# Check the type of the first value in the array\n",
    "print(type(y[0]))"
   ]
  },
  {
   "cell_type": "code",
   "execution_count": null,
   "metadata": {},
   "outputs": [],
   "source": [
    "# Change the first value in the array to 2\n",
    "y[0] = 2"
   ]
  },
  {
   "cell_type": "code",
   "execution_count": null,
   "metadata": {},
   "outputs": [],
   "source": [
    "# Check the type of the array\n",
    "print(type(y))"
   ]
  },
  {
   "cell_type": "code",
   "execution_count": null,
   "metadata": {},
   "outputs": [],
   "source": [
    "# Create a dictionary {\"key\": \"values\"}\n",
    "z = {\"name\": [\"Norman\", \"Eric\", \"Winson\"],\n",
    "    \"age\": [37, 40, 36],\n",
    "    \"income\": [100, 500, 10]}\n",
    "print(z)"
   ]
  },
  {
   "cell_type": "code",
   "execution_count": null,
   "metadata": {},
   "outputs": [],
   "source": [
    "# Extracting the data from a dictionary\n",
    "\n",
    "# Printing all the names\n",
    "print(z[\"name\"])\n",
    "\n",
    "# Printing the age for Norman\n",
    "print(z[\"age\"][0])\n",
    "\n",
    "# Printing the income for Winson\n",
    "print(z[\"income\"][2])\n"
   ]
  },
  {
   "cell_type": "code",
   "execution_count": null,
   "metadata": {},
   "outputs": [],
   "source": [
    "# Check the type of dictionary z\n",
    "print(type(z))"
   ]
  },
  {
   "cell_type": "markdown",
   "metadata": {},
   "source": [
    "#### It is worth to take note that the counting machanism in Python and many other programming languages start with \"0\".  However, the count in R and VBA (Excel programming languange) start from \"1\"."
   ]
  },
  {
   "cell_type": "code",
   "execution_count": null,
   "metadata": {},
   "outputs": [],
   "source": [
    "# Looping through an array of data\n",
    "for i in x:\n",
    "    print(i)"
   ]
  },
  {
   "cell_type": "code",
   "execution_count": null,
   "metadata": {},
   "outputs": [],
   "source": [
    "# Looping through an array of data and add 10 to each value\n",
    "for i in x:\n",
    "    print(i + 10)"
   ]
  },
  {
   "cell_type": "code",
   "execution_count": null,
   "metadata": {},
   "outputs": [],
   "source": [
    "# Looping throught dictionary z\n",
    "for i in z:\n",
    "    print(i)"
   ]
  },
  {
   "cell_type": "code",
   "execution_count": null,
   "metadata": {},
   "outputs": [],
   "source": [
    "# Looping through the key \"name\" in dictionary z\n",
    "for i in z[\"name\"]:\n",
    "    print(i)"
   ]
  },
  {
   "cell_type": "markdown",
   "metadata": {},
   "source": [
    "## Loading Data from the Existing Data File (CSV & Excel)\n",
    "### There are different ways to open a CSV or Excel file in Python.  One of the most popular libraries in the community is Pandas.  Let's take a quick look of how to read the CSV or Excel file with Pandas.\n",
    "### \"Library\" is a build in modules written in higher level (usually C or C++) that provide access to system functionality, so Python user do not need to hard coding everything on their own."
   ]
  },
  {
   "cell_type": "code",
   "execution_count": null,
   "metadata": {},
   "outputs": [],
   "source": [
    "# If your computer has not install Pandas library before, you will need to pip install the library to your Anaconda envorinment\n",
    "# !pip install pandas"
   ]
  },
  {
   "cell_type": "code",
   "execution_count": null,
   "metadata": {},
   "outputs": [],
   "source": [
    "# If you have installed Pandas before, then you can just import the library from Anaconda environment directly\n",
    "import pandas as pd"
   ]
  },
  {
   "cell_type": "code",
   "execution_count": null,
   "metadata": {},
   "outputs": [],
   "source": [
    "# Create a path to the CSV file\n",
    "file_path = \"data/donors2008.csv\""
   ]
  },
  {
   "cell_type": "code",
   "execution_count": null,
   "metadata": {},
   "outputs": [],
   "source": [
    "# Extract the data from the CSV file to a Pandas data frame\n",
    "# The \"encoding\" parameter is for situation where you may deal with different languages or rare syntex in your CSV file.\n",
    "# Some standard Python encoding includes, \"ISO-8859-1\"(West Europe), \"utf_8\"(All), \"big5\"(Chinese), etc.\n",
    "data_df = pd.read_csv(file_path, encoding=\"ISO-8859-1\")\n",
    "data_df"
   ]
  },
  {
   "cell_type": "code",
   "execution_count": null,
   "metadata": {},
   "outputs": [],
   "source": [
    "# Create a new path to the Excel file\n",
    "file_path = \"data/crime_data.xlsx\""
   ]
  },
  {
   "cell_type": "code",
   "execution_count": null,
   "metadata": {},
   "outputs": [],
   "source": [
    "data_df = pd.read_excel(file_path, encoding=\"utf_8\")\n",
    "data_df.head()"
   ]
  },
  {
   "cell_type": "code",
   "execution_count": null,
   "metadata": {},
   "outputs": [],
   "source": [
    "# You can print the selected column in the data frame\n",
    "print(data_df[\"year\"])"
   ]
  },
  {
   "cell_type": "code",
   "execution_count": null,
   "metadata": {},
   "outputs": [],
   "source": [
    "# You can also print specific row in the data frame [0:1] from row 0 to 1, not include 1\n",
    "print(data_df[0:1])"
   ]
  },
  {
   "cell_type": "markdown",
   "metadata": {},
   "source": [
    "## Mathematic Operations\n",
    "### Here is a list of mathematic operations you can use in Python\n",
    "<ol>\n",
    "    <li>Addition/Subtraction:  x + y  and  x - y</li>\n",
    "    <li>Multiplication/Division:  x * y  and  x / y</li>\n",
    "    <li>Exponent/Power:  x**y</li>\n",
    "    <li>Modulus:  x%y, read as x mod y</li>\n",
    "</ol>\n",
    "   "
   ]
  },
  {
   "cell_type": "code",
   "execution_count": null,
   "metadata": {},
   "outputs": [],
   "source": [
    "x = 3\n",
    "y = 10"
   ]
  },
  {
   "cell_type": "code",
   "execution_count": null,
   "metadata": {},
   "outputs": [],
   "source": [
    "x + y"
   ]
  },
  {
   "cell_type": "code",
   "execution_count": null,
   "metadata": {},
   "outputs": [],
   "source": [
    "x - y"
   ]
  },
  {
   "cell_type": "code",
   "execution_count": null,
   "metadata": {},
   "outputs": [],
   "source": [
    "x * y"
   ]
  },
  {
   "cell_type": "code",
   "execution_count": null,
   "metadata": {},
   "outputs": [],
   "source": [
    "x / y"
   ]
  },
  {
   "cell_type": "code",
   "execution_count": null,
   "metadata": {},
   "outputs": [],
   "source": [
    "x**y"
   ]
  },
  {
   "cell_type": "code",
   "execution_count": null,
   "metadata": {},
   "outputs": [],
   "source": [
    "x%y"
   ]
  },
  {
   "cell_type": "code",
   "execution_count": null,
   "metadata": {},
   "outputs": [],
   "source": [
    "y%x"
   ]
  },
  {
   "cell_type": "markdown",
   "metadata": {},
   "source": [
    "## Statistic in Python\n",
    "### In this section, we are going to go over the two fundamental libraries for scientific application.\n",
    "<ul>\n",
    "    <li>Numpy: A high-performance multidimensional array object, and tools for working with these arrays.</li>\n",
    "    <li>Scipy: A high-performance multidimensional array and basic tools to compute with and manipulate these arrays.</li>\n",
    "</ul>\n",
    "\n",
    "### Note that in this section, we are going to compare the results in Stata and R"
   ]
  },
  {
   "cell_type": "code",
   "execution_count": null,
   "metadata": {},
   "outputs": [],
   "source": [
    "# Installing the dependency\n",
    "# !pip install numpy\n",
    "import numpy as np"
   ]
  },
  {
   "cell_type": "code",
   "execution_count": null,
   "metadata": {},
   "outputs": [],
   "source": [
    "# Create a numpy array (only rank 1 array) and check for its type\n",
    "d = np.array([10, 20, 30])\n",
    "print(type(d))"
   ]
  },
  {
   "cell_type": "code",
   "execution_count": null,
   "metadata": {},
   "outputs": [],
   "source": [
    "# Extract value in the first position of the array\n",
    "print(d[0])"
   ]
  },
  {
   "cell_type": "code",
   "execution_count": null,
   "metadata": {},
   "outputs": [],
   "source": [
    "# Create a 3x3 matrix (rank 3 arrays) with numpy\n",
    "A = np.array([[1, 2, 3], [-4, -5, -6], [7, -8, 9]])\n",
    "print(type(A))"
   ]
  },
  {
   "cell_type": "code",
   "execution_count": null,
   "metadata": {},
   "outputs": [],
   "source": [
    "# Print the 3x3 matrix\n",
    "print(A)"
   ]
  },
  {
   "cell_type": "code",
   "execution_count": null,
   "metadata": {},
   "outputs": [],
   "source": [
    "# Extract value from the matrix as it was an array\n",
    "print(A(0))\n",
    "\n",
    "# note that numpy cannot recongize the command because it has multiple ranking in the array"
   ]
  },
  {
   "cell_type": "code",
   "execution_count": null,
   "metadata": {},
   "outputs": [],
   "source": [
    "# Extract the a11 position from the 3x3 matrix z\n",
    "print(A[0,0])"
   ]
  },
  {
   "cell_type": "code",
   "execution_count": null,
   "metadata": {},
   "outputs": [],
   "source": [
    "# Find the determinant for Matrix A\n",
    "det = np.linalg.det(A)\n",
    "print(det)"
   ]
  },
  {
   "cell_type": "code",
   "execution_count": null,
   "metadata": {},
   "outputs": [],
   "source": [
    "# Solving a system of equation as we learned in class\n",
    "# A is parameter matrix, d is constant matrix, and x is variable matrix\n",
    "x = np.linalg.solve(A, d)"
   ]
  },
  {
   "cell_type": "code",
   "execution_count": null,
   "metadata": {},
   "outputs": [],
   "source": [
    "# Print the variable matrix x\n",
    "print(x)"
   ]
  },
  {
   "cell_type": "code",
   "execution_count": null,
   "metadata": {},
   "outputs": [],
   "source": [
    "# Check the solution\n",
    "np.allclose(np.dot(A, x), d)"
   ]
  },
  {
   "cell_type": "code",
   "execution_count": null,
   "metadata": {},
   "outputs": [],
   "source": [
    "# For learning purpose, we are not going to cover too much on matrix calculation with Numpy\n",
    "# Let's consider how to get the statistic parameters in Numpy\n",
    "# Let's try on getting the min, max, range, mean, median, variance, and standard deviation for a Numpy array.\n",
    "\n",
    "# Using the Numpy function random.randint to generate an new array with 10 elements, which value range from 0 - 100.\n",
    "w = np.random.randint(101, size=10)\n",
    "\n",
    "# Minimum value in array w\n",
    "np.amin(w)\n",
    "\n",
    "# Maximum value in array w\n",
    "np.amax(w)\n",
    "\n",
    "# Range of array w, maximum value - minimum value in an array\n",
    "np.ptp(w)\n",
    "\n",
    "# 90th Percentile of array w\n",
    "np.percentile(w, 90)\n",
    "\n",
    "# Median of array w\n",
    "np.median(w)\n",
    "\n",
    "# Mean / Average of array w\n",
    "np.average(w)\n",
    "\n",
    "# Note that Numpy library do not have mode function, which we will cover in Scipy\n",
    "\n",
    "# Variance of array w\n",
    "np.var(w)\n",
    "\n",
    "# Standard deviation of array w\n",
    "np.std(w)\n"
   ]
  },
  {
   "cell_type": "code",
   "execution_count": null,
   "metadata": {},
   "outputs": [],
   "source": []
  },
  {
   "cell_type": "code",
   "execution_count": null,
   "metadata": {},
   "outputs": [],
   "source": [
    "# If we are trying to get mode of an array or a descriptive statistic summary of an array,\n",
    "# we will need to take a look of this extremely useful library called \"Scipy\"\n",
    "\n",
    "from scipy import stats\n",
    "\n",
    "# Mode of array d\n",
    "stats.mode(w)"
   ]
  },
  {
   "cell_type": "code",
   "execution_count": null,
   "metadata": {},
   "outputs": [],
   "source": [
    "# If we want to have a statistic summary of an array d\n",
    "stats.describe(w)\n",
    "# (n, (min, max), mean, var, skew, kurt) = stats.describe(w)"
   ]
  },
  {
   "cell_type": "code",
   "execution_count": null,
   "metadata": {},
   "outputs": [],
   "source": [
    "print(\"Statistic Summary:\")\n",
    "print(\"-----------------------------\")\n",
    "print(f\"Number of Oberservation: {n}\")\n",
    "print(f\"Minimum: {min}\")\n",
    "print(f\"Maximum: {max}\")\n",
    "print(f\"Mean: {mean}\")\n",
    "print(f\"Variance: {var}\")\n",
    "print(f\"Skewness: {skew}\")\n",
    "print(f\"Kurtosis: {kurt}\")\n"
   ]
  },
  {
   "cell_type": "code",
   "execution_count": null,
   "metadata": {},
   "outputs": [],
   "source": [
    "# Read in data\n",
    "general_heights = pd.read_csv(\"./data/general_heights.csv\")\n",
    "wba_heights = pd.read_csv(\"./data/wba_data.csv\")"
   ]
  },
  {
   "cell_type": "code",
   "execution_count": null,
   "metadata": {},
   "outputs": [],
   "source": [
    "general_heights.head()"
   ]
  },
  {
   "cell_type": "code",
   "execution_count": null,
   "metadata": {},
   "outputs": [],
   "source": [
    "wba_heights.head()"
   ]
  },
  {
   "cell_type": "code",
   "execution_count": null,
   "metadata": {},
   "outputs": [],
   "source": [
    "# Using Scipy to get a summary statistics on \"height\" from general height data set.\n",
    "\n",
    "(n, (min, max), mean, var, skew, kurt) = stats.describe(general_heights[\"height\"])"
   ]
  },
  {
   "cell_type": "code",
   "execution_count": null,
   "metadata": {},
   "outputs": [],
   "source": [
    "print(\"Statistic Summary:\")\n",
    "print(\"-----------------------------\")\n",
    "print(f\"Number of Oberservation: {n}\")\n",
    "print(f\"Minimum: {min}\")\n",
    "print(f\"Maximum: {max}\")\n",
    "print(f\"Mean: {mean}\")\n",
    "print(f\"Variance: {var}\")\n",
    "print(f\"Skewness: {skew}\")\n",
    "print(f\"Kurtosis: {kurt}\")"
   ]
  },
  {
   "cell_type": "code",
   "execution_count": null,
   "metadata": {},
   "outputs": [],
   "source": [
    "# Using Scipy to get a summary statistics on \"height\" from wba data set.\n",
    "\n"
   ]
  },
  {
   "cell_type": "code",
   "execution_count": null,
   "metadata": {},
   "outputs": [],
   "source": [
    "# Print the statistic summary\n",
    "\n"
   ]
  },
  {
   "cell_type": "markdown",
   "metadata": {},
   "source": [
    "## Simple Statistic Plot\n",
    "\n",
    "### Python has two popular plotting libraries.\n",
    "\n",
    "* Matplotlib, [Matplotlib Examples](https://matplotlib.org/gallery/index.html)\n",
    "* Poltly, [Plotly Examples](https://plot.ly/python/)"
   ]
  },
  {
   "cell_type": "code",
   "execution_count": null,
   "metadata": {},
   "outputs": [],
   "source": [
    "# Dependencies\n",
    "import matplotlib.pyplot as plt\n",
    "import numpy as np\n",
    "import pandas as pd\n",
    "from scipy.stats import stats\n",
    "\n",
    "# A common plot in statistic is frequency distribution. \n",
    "# Let's try to use Matplotlib to plot the sampling distribution for general height data set.\n",
    "\n",
    "plt.hist(general_heights[\"height\"])\n",
    "\n",
    "# Defining the axes, title, limit of axes, and grid\n",
    "# plt.xlabel(\"Heights\")\n",
    "# plt.ylabel(\"Frequency\")\n",
    "# plt.title(\"Frequency Distribution (General Heights)\")\n",
    "# plt.xlim(50, 85)\n",
    "# plt.ylim(0, 110)\n",
    "# plt.grid(True)\n",
    "plt.show"
   ]
  },
  {
   "cell_type": "code",
   "execution_count": null,
   "metadata": {},
   "outputs": [],
   "source": [
    "# Let's try to use Matplotlib to plot the ssample distribution for wba data set\n",
    "\n"
   ]
  },
  {
   "cell_type": "code",
   "execution_count": null,
   "metadata": {},
   "outputs": [],
   "source": [
    "# Another common plotting tool is scatter plot for two or three variables\n",
    "\n",
    "# Read in data\n",
    "health = pd.read_csv(\"./data/food_env_data.csv\")\n",
    "\n",
    "health.head()"
   ]
  },
  {
   "cell_type": "code",
   "execution_count": null,
   "metadata": {},
   "outputs": [],
   "source": [
    "# For convenience, we are storing the two variables \"Percent Diabetes\" and \"Percent Obesity\" into two separate columns\n",
    "\n",
    "diabetes = health[\"Percent Diabetes\"]\n",
    "obesity = health[\"Percent Obesity\"]"
   ]
  },
  {
   "cell_type": "code",
   "execution_count": null,
   "metadata": {},
   "outputs": [],
   "source": [
    "# We are going to use a scatter plot to visualize the two variable in one plot\n",
    "\n",
    "plt.scatter(obesity, diabetes, color=\"red\", marker='o')\n",
    "\n",
    "# Defining the axes, title, limit of axes, and grid\n",
    "# plt.xlabel(\"Percent of Obesity (County Level)\")\n",
    "# plt.ylabel(\"Percent of Diabetes (County Level)\")\n",
    "# plt.title(\"Diabetes vs. Obesity (County Level)\")\n",
    "# plt.xlim(2, 25)\n",
    "# plt.ylim(10, 50)\n",
    "# plt.grid(True)\n",
    "plt.show"
   ]
  },
  {
   "cell_type": "markdown",
   "metadata": {},
   "source": [
    "## Simple Statistic Functions and Regression Modeling\n",
    "### In this section, we are going to go through some very basic statistic testing and regression modeling syntex.  You are going to spend majority of your time to learn different regression models in the M.S. program, so I am not going to cover too much of this materials.\n",
    "* t-test, with Scipy [Documentations](https://docs.scipy.org/doc/scipy/reference/generated/scipy.stats.ttest_ind.html)\n",
    "* F-test, with Scipy [Documentations](https://docs.scipy.org/doc/scipy/reference/generated/scipy.stats.f_oneway.html)\n",
    "* Regression Model, with Scipy [Documentation](https://docs.scipy.org/doc/scipy-0.14.0/reference/generated/scipy.stats.linregress.html)"
   ]
  },
  {
   "cell_type": "code",
   "execution_count": null,
   "metadata": {},
   "outputs": [],
   "source": [
    "# Let's use our general height and wba height example\n",
    "# Keep in mind, the default is set to be a 2-sided test\n",
    "# This example is using independent research design  \"stats.ttest_ind\"\n",
    "(t_stat, p) = stats.ttest_ind(general_heights[\"height\"], wba_heights[\"height\"])"
   ]
  },
  {
   "cell_type": "code",
   "execution_count": null,
   "metadata": {
    "scrolled": true
   },
   "outputs": [],
   "source": [
    "print(f'General Heights Average: {general_heights[\"height\"].mean()}')\n",
    "print(f'WBA Heights Average: {wba_heights[\"height\"].mean()}')\n",
    "print(f't_statistic: {t_stat}')\n",
    "print(f'Two-Tailed P-Value: {p}')\n"
   ]
  },
  {
   "cell_type": "code",
   "execution_count": null,
   "metadata": {},
   "outputs": [],
   "source": []
  },
  {
   "cell_type": "code",
   "execution_count": null,
   "metadata": {},
   "outputs": [],
   "source": [
    "# Another common statistic test is F-test\n",
    "# F-test is also called \"ANOVA\", Analysis of Variances.\n",
    "x = [1, 2, 8, 10, 3, 5, 13, 12, 6, 8]\n",
    "y = [4, 9, 2, 15, 10, 9, 9, 5, 12, 14]\n",
    "z = [12, 15, 10, 5, 4, 7, 11, 11, 3, 2]\n",
    "\n",
    "(F_stat, p) = stats.f_oneway(x, y, z)"
   ]
  },
  {
   "cell_type": "code",
   "execution_count": null,
   "metadata": {},
   "outputs": [],
   "source": [
    "print(f'x Average: {np.average(x)}')\n",
    "print(f'y Average: {np.average(y)}')\n",
    "print(f'y Average: {np.average(z)}')\n",
    "print(f'F_statistic: {F_stat}')\n",
    "print(f'P-Value: {p}')"
   ]
  },
  {
   "cell_type": "code",
   "execution_count": null,
   "metadata": {},
   "outputs": [],
   "source": [
    "# Finally, let's see how to do simple Regression Model in Python with Scipy\n",
    "# Using the diabetes and obesity example.\n",
    "\n",
    "# Often economist use correlation matrix to observe any correlation between variables\n",
    "np.corrcoef(diabetes, obesity)"
   ]
  },
  {
   "cell_type": "code",
   "execution_count": null,
   "metadata": {},
   "outputs": [],
   "source": [
    "# Using Scipy, we can also build a simple single variable regression model\n",
    "m_slope, m_int, m_r, m_p, m_std_err = stats.linregress(obesity, diabetes)\n",
    "m_fit = m_slope * obesity + m_int\n"
   ]
  },
  {
   "cell_type": "code",
   "execution_count": null,
   "metadata": {},
   "outputs": [],
   "source": [
    "print(m_slope)\n",
    "print(m_int)\n",
    "print(m_p)\n",
    "print(m_std_err)\n",
    "print(m_r)"
   ]
  },
  {
   "cell_type": "code",
   "execution_count": null,
   "metadata": {},
   "outputs": [],
   "source": [
    "# Using Matplotlib to visualize the result\n",
    "\n",
    "plt.scatter(obesity, diabetes, color=\"green\", marker='o')\n",
    "plt.plot(obesity, m_fit, \"b--\", linewidth=2)\n",
    "\n",
    "# Defining the axes, title, limit of axes, and grid\n",
    "# plt.xlabel(\"Percent of Obesity (County Level)\")\n",
    "# plt.ylabel(\"Percent of Diabetes (County Level)\")\n",
    "# plt.title(\"Diabetes vs. Obesity (County Level)\")\n",
    "# plt.xlim(10, 50)\n",
    "# plt.ylim(2, 25)\n",
    "# plt.grid(True)\n",
    "plt.show"
   ]
  },
  {
   "cell_type": "markdown",
   "metadata": {},
   "source": [
    "## Cleaning and Manipulating the Data\n",
    "### Economists or Data Scientists usually spend 80% of the time to clearn and manipulating the data.  The analytical part only takes 20% of the time.  It is important to at least learn the basic of it."
   ]
  },
  {
   "cell_type": "code",
   "execution_count": null,
   "metadata": {},
   "outputs": [],
   "source": [
    "# Drop any row that has at least one N/A or empty data\n",
    "health.dropna()\n",
    "\n",
    "# Drop the columns where at least one element is missing\n",
    "health.dropna(axis=\"columns\")\n",
    "\n",
    "# Drop the rows where all elements are missing\n",
    "health.dropna(how=\"all\")\n",
    "\n"
   ]
  },
  {
   "cell_type": "code",
   "execution_count": null,
   "metadata": {},
   "outputs": [],
   "source": [
    "# Adding/Subtracting two columns of data\n",
    "health[\"Total Survey\"] = health[\"Survey Diabetes\"] + health[\"Survey Obesity\"]\n",
    "\n",
    "# Multiplying/Dividing two columns of data\n",
    "health[\"Total Diabetes\"] = health[\"Survey Diabetes\"] * health[\"Percent Diabetes\"] / 100\n",
    "\n",
    "# Taking log of the column\n",
    "health[\"Log Percent Obesity\"] = log(health[\"Percent Obesity\"])\n",
    "\n",
    "# Exponantial the column\n",
    "helath[\"Exp Log Percent Obesity\"] = exp(health[\"Log Percent Obesity\"])"
   ]
  },
  {
   "cell_type": "code",
   "execution_count": null,
   "metadata": {},
   "outputs": [],
   "source": []
  },
  {
   "cell_type": "code",
   "execution_count": null,
   "metadata": {},
   "outputs": [],
   "source": []
  }
 ],
 "metadata": {
  "kernelspec": {
   "display_name": "Python 3",
   "language": "python",
   "name": "python3"
  },
  "language_info": {
   "codemirror_mode": {
    "name": "ipython",
    "version": 3
   },
   "file_extension": ".py",
   "mimetype": "text/x-python",
   "name": "python",
   "nbconvert_exporter": "python",
   "pygments_lexer": "ipython3",
   "version": "3.7.1"
  }
 },
 "nbformat": 4,
 "nbformat_minor": 2
}
